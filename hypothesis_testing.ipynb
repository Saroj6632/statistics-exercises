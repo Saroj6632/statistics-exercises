{
 "cells": [
  {
   "cell_type": "markdown",
   "id": "86612f55",
   "metadata": {},
   "source": [
    "# Has the network latency gone up since we switched internet service providers?\n",
    "Null Hypothesis: latency has not changed\n",
    "Alternate Hypothesis:latency has gone up\n",
    "True Positive: latency has increased\n",
    "True Negative: latency has not changed even after changing ISP\n",
    "Type1 Error: shows change in ISp increased latency while it really did not\n",
    "Type2 Error: shows change in ISP has no effect when it really did\n",
    "\n"
   ]
  },
  {
   "cell_type": "markdown",
   "id": "e6930b3f",
   "metadata": {},
   "source": [
    "# Is the website redesign any good?\n",
    "\n",
    "\n",
    "Null Hypothesis: redesign has no significant impact \n",
    "Alternate Hypothesis: redesign has positive impact\n",
    "True Positive:redesign has \n",
    "True Negative: null hypothesis not rejected but seen positive impact\n",
    "Type1 Error: no any postive impact while we assumed it has\n",
    "Type2 Error: positive impact up but we assumed it has not\n",
    "\n",
    "\n"
   ]
  },
  {
   "cell_type": "markdown",
   "id": "19a61790",
   "metadata": {},
   "source": [
    "# Is our television ad driving more sales?\n",
    "\n",
    "Null Hypothesis: sales have not increased\n",
    "Alternate Hypothesis: sales have increased\n",
    "True Positive: sales have increased due to ad\n",
    "True Negative: sales have not changed due to ad\n",
    "Type1 Error: sales increased but not because of tv ad\n",
    "Type2 Error: shows ad has no positive effect when in reality it has\n",
    "\n",
    "\n"
   ]
  }
 ],
 "metadata": {
  "kernelspec": {
   "display_name": "Python 3 (ipykernel)",
   "language": "python",
   "name": "python3"
  },
  "language_info": {
   "codemirror_mode": {
    "name": "ipython",
    "version": 3
   },
   "file_extension": ".py",
   "mimetype": "text/x-python",
   "name": "python",
   "nbconvert_exporter": "python",
   "pygments_lexer": "ipython3",
   "version": "3.9.12"
  }
 },
 "nbformat": 4,
 "nbformat_minor": 5
}
