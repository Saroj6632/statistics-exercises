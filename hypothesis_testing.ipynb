{
 "cells": [
  {
   "cell_type": "markdown",
   "id": "86612f55",
   "metadata": {},
   "source": [
    "# Has the network latency gone up since we switched internet service providers?\n",
    "- Null Hypothesis: latency has not changed\n",
    "- Alternate Hypothesis:latency has gone up\n",
    "- True Positive: latency has increased\n",
    "- True Negative: latency has not changed even after changing ISP\n",
    "- Type1 Error: shows change in ISp increased latency while it really did not\n",
    "- Type2 Error: shows change in ISP has no effect when it really did\n",
    "\n"
   ]
  },
  {
   "cell_type": "markdown",
   "id": "e6930b3f",
   "metadata": {},
   "source": [
    "# Is the website redesign any good?\n",
    "\n",
    "\n",
    "- Null Hypothesis: redesign has no significant impact \n",
    "- Alternate Hypothesis: redesign has positive impact\n",
    "- True Positive:redesign has \n",
    "- True Negative: null hypothesis not rejected but seen positive impact\n",
    "- Type1 Error: no any postive impact while we assumed it has\n",
    "- Type2 Error: positive impact up but we assumed it has not\n",
    "\n",
    "\n"
   ]
  },
  {
   "cell_type": "markdown",
   "id": "19a61790",
   "metadata": {},
   "source": [
    "# Is our television ad driving more sales?\n",
    "\n",
    "- Null Hypothesis: sales have not increased\n",
    "-  Alternate Hypothesis: sales have increased\n",
    "-  True Positive: sales have increased due to ad\n",
    "-  True Negative: sales have not changed due to ad\n",
    "-  Type1 Error: sales increased but not because of tv ad\n",
    "-  Type2 Error: shows ad has no positive effect when in reality it has\n",
    "\n",
    "\n"
   ]
  },
  {
   "cell_type": "markdown",
   "id": "f3b6641b",
   "metadata": {},
   "source": [
    "### Ace Realty wants to determine whether the average time it takes to sell homes is different for its two offices. A sample of 40 sales from office #1 revealed a mean of 90 days and a standard deviation of 15 days. A sample of 50 sales from office #2 revealed a mean of 100 days and a standard deviation of 20 days. Use a .05 level of significance"
   ]
  },
  {
   "cell_type": "code",
   "execution_count": 6,
   "id": "cd0f7998",
   "metadata": {},
   "outputs": [],
   "source": [
    "import numpy as np\n",
    "import seaborn as sns\n",
    "import scipy.stats as stats\n",
    "import pandas as pd\n",
    "import matplotlib.pyplot as plt"
   ]
  },
  {
   "cell_type": "code",
   "execution_count": 7,
   "id": "c8d9b4b6",
   "metadata": {},
   "outputs": [],
   "source": [
    "alpha = 0.05\n",
    "# hypothesis\n",
    "#Ho:Average time to sale home in office 1 <= average time to sale in 2nd office\n",
    "#Ha: Average time to sale home in 1st office > average time to sale in 2nd office"
   ]
  },
  {
   "cell_type": "code",
   "execution_count": 8,
   "id": "ca8caa9c",
   "metadata": {},
   "outputs": [],
   "source": [
    "office_1= 105\n",
    "office_2= 120"
   ]
  },
  {
   "cell_type": "code",
   "execution_count": 10,
   "id": "d9256d79",
   "metadata": {},
   "outputs": [
    {
     "ename": "TypeError",
     "evalue": "ttest_ind_from_stats() missing 4 required positional arguments: 'nobs1', 'mean2', 'std2', and 'nobs2'",
     "output_type": "error",
     "traceback": [
      "\u001b[0;31m---------------------------------------------------------------------------\u001b[0m",
      "\u001b[0;31mTypeError\u001b[0m                                 Traceback (most recent call last)",
      "Input \u001b[0;32mIn [10]\u001b[0m, in \u001b[0;36m<cell line: 1>\u001b[0;34m()\u001b[0m\n\u001b[0;32m----> 1\u001b[0m t, p \u001b[38;5;241m=\u001b[39m \u001b[43mstats\u001b[49m\u001b[38;5;241;43m.\u001b[39;49m\u001b[43mttest_ind_from_stats\u001b[49m\u001b[43m(\u001b[49m\u001b[43moffice_1\u001b[49m\u001b[43m,\u001b[49m\u001b[43moffice_2\u001b[49m\u001b[43m,\u001b[49m\u001b[43m \u001b[49m\u001b[43mequal_var\u001b[49m\u001b[38;5;241;43m=\u001b[39;49m\u001b[38;5;28;43;01mFalse\u001b[39;49;00m\u001b[43m)\u001b[49m\n",
      "\u001b[0;31mTypeError\u001b[0m: ttest_ind_from_stats() missing 4 required positional arguments: 'nobs1', 'mean2', 'std2', and 'nobs2'"
     ]
    }
   ],
   "source": [
    "t, p = stats.ttest_ind_from_stats(office_1,office_2, equal_var=False)"
   ]
  },
  {
   "cell_type": "code",
   "execution_count": null,
   "id": "a837302f",
   "metadata": {},
   "outputs": [],
   "source": [
    "_"
   ]
  }
 ],
 "metadata": {
  "kernelspec": {
   "display_name": "Python 3 (ipykernel)",
   "language": "python",
   "name": "python3"
  },
  "language_info": {
   "codemirror_mode": {
    "name": "ipython",
    "version": 3
   },
   "file_extension": ".py",
   "mimetype": "text/x-python",
   "name": "python",
   "nbconvert_exporter": "python",
   "pygments_lexer": "ipython3",
   "version": "3.9.12"
  }
 },
 "nbformat": 4,
 "nbformat_minor": 5
}
