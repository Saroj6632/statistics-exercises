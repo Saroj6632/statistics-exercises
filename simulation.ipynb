{
 "cells": [
  {
   "cell_type": "code",
   "execution_count": 10,
   "id": "36938b3e",
   "metadata": {},
   "outputs": [],
   "source": [
    "import numpy as np\n",
    "import pandas as pd\n",
    "import matplotlib.pyplot as plt\n",
    "\n",
    "np.random.seed(30)"
   ]
  },
  {
   "cell_type": "code",
   "execution_count": 27,
   "id": "afc2119c",
   "metadata": {},
   "outputs": [
    {
     "data": {
      "text/plain": [
       "array([[6, 3],\n",
       "       [6, 5],\n",
       "       [6, 3],\n",
       "       ...,\n",
       "       [2, 2],\n",
       "       [1, 5],\n",
       "       [6, 1]])"
      ]
     },
     "execution_count": 27,
     "metadata": {},
     "output_type": "execute_result"
    }
   ],
   "source": [
    "# How likely is it that you roll doubles when rolling two dice?\n",
    "n_trials= nrows =10000\n",
    "n_dice = ncol = 2\n",
    "\n",
    "rolls = np.random.choice([1,2,3,4,5,6], size=(n_trials,n_dice))\n",
    "rolls"
   ]
  },
  {
   "cell_type": "code",
   "execution_count": 43,
   "id": "390c0a6d",
   "metadata": {},
   "outputs": [
    {
     "data": {
      "text/html": [
       "<div>\n",
       "<style scoped>\n",
       "    .dataframe tbody tr th:only-of-type {\n",
       "        vertical-align: middle;\n",
       "    }\n",
       "\n",
       "    .dataframe tbody tr th {\n",
       "        vertical-align: top;\n",
       "    }\n",
       "\n",
       "    .dataframe thead th {\n",
       "        text-align: right;\n",
       "    }\n",
       "</style>\n",
       "<table border=\"1\" class=\"dataframe\">\n",
       "  <thead>\n",
       "    <tr style=\"text-align: right;\">\n",
       "      <th></th>\n",
       "      <th>0</th>\n",
       "      <th>1</th>\n",
       "    </tr>\n",
       "  </thead>\n",
       "  <tbody>\n",
       "    <tr>\n",
       "      <th>0</th>\n",
       "      <td>6</td>\n",
       "      <td>3</td>\n",
       "    </tr>\n",
       "    <tr>\n",
       "      <th>1</th>\n",
       "      <td>6</td>\n",
       "      <td>5</td>\n",
       "    </tr>\n",
       "    <tr>\n",
       "      <th>2</th>\n",
       "      <td>6</td>\n",
       "      <td>3</td>\n",
       "    </tr>\n",
       "    <tr>\n",
       "      <th>3</th>\n",
       "      <td>4</td>\n",
       "      <td>1</td>\n",
       "    </tr>\n",
       "    <tr>\n",
       "      <th>4</th>\n",
       "      <td>6</td>\n",
       "      <td>2</td>\n",
       "    </tr>\n",
       "    <tr>\n",
       "      <th>...</th>\n",
       "      <td>...</td>\n",
       "      <td>...</td>\n",
       "    </tr>\n",
       "    <tr>\n",
       "      <th>9995</th>\n",
       "      <td>6</td>\n",
       "      <td>1</td>\n",
       "    </tr>\n",
       "    <tr>\n",
       "      <th>9996</th>\n",
       "      <td>4</td>\n",
       "      <td>5</td>\n",
       "    </tr>\n",
       "    <tr>\n",
       "      <th>9997</th>\n",
       "      <td>2</td>\n",
       "      <td>2</td>\n",
       "    </tr>\n",
       "    <tr>\n",
       "      <th>9998</th>\n",
       "      <td>1</td>\n",
       "      <td>5</td>\n",
       "    </tr>\n",
       "    <tr>\n",
       "      <th>9999</th>\n",
       "      <td>6</td>\n",
       "      <td>1</td>\n",
       "    </tr>\n",
       "  </tbody>\n",
       "</table>\n",
       "<p>10000 rows × 2 columns</p>\n",
       "</div>"
      ],
      "text/plain": [
       "      0  1\n",
       "0     6  3\n",
       "1     6  5\n",
       "2     6  3\n",
       "3     4  1\n",
       "4     6  2\n",
       "...  .. ..\n",
       "9995  6  1\n",
       "9996  4  5\n",
       "9997  2  2\n",
       "9998  1  5\n",
       "9999  6  1\n",
       "\n",
       "[10000 rows x 2 columns]"
      ]
     },
     "execution_count": 43,
     "metadata": {},
     "output_type": "execute_result"
    }
   ],
   "source": [
    "dice = pd.DataFrame(rolls)\n",
    "dice"
   ]
  },
  {
   "cell_type": "code",
   "execution_count": 53,
   "id": "a54069ad",
   "metadata": {},
   "outputs": [
    {
     "data": {
      "text/plain": [
       "0.1634"
      ]
     },
     "execution_count": 53,
     "metadata": {},
     "output_type": "execute_result"
    }
   ],
   "source": [
    "(dice[0] == dice[1]).mean()"
   ]
  },
  {
   "cell_type": "code",
   "execution_count": 73,
   "id": "23776c25",
   "metadata": {},
   "outputs": [
    {
     "data": {
      "text/html": [
       "<div>\n",
       "<style scoped>\n",
       "    .dataframe tbody tr th:only-of-type {\n",
       "        vertical-align: middle;\n",
       "    }\n",
       "\n",
       "    .dataframe tbody tr th {\n",
       "        vertical-align: top;\n",
       "    }\n",
       "\n",
       "    .dataframe thead th {\n",
       "        text-align: right;\n",
       "    }\n",
       "</style>\n",
       "<table border=\"1\" class=\"dataframe\">\n",
       "  <thead>\n",
       "    <tr style=\"text-align: right;\">\n",
       "      <th></th>\n",
       "      <th>0</th>\n",
       "      <th>1</th>\n",
       "      <th>2</th>\n",
       "      <th>3</th>\n",
       "      <th>4</th>\n",
       "      <th>5</th>\n",
       "      <th>6</th>\n",
       "      <th>7</th>\n",
       "    </tr>\n",
       "  </thead>\n",
       "  <tbody>\n",
       "    <tr>\n",
       "      <th>0</th>\n",
       "      <td>head</td>\n",
       "      <td>tail</td>\n",
       "      <td>head</td>\n",
       "      <td>head</td>\n",
       "      <td>tail</td>\n",
       "      <td>head</td>\n",
       "      <td>head</td>\n",
       "      <td>head</td>\n",
       "    </tr>\n",
       "    <tr>\n",
       "      <th>1</th>\n",
       "      <td>head</td>\n",
       "      <td>head</td>\n",
       "      <td>head</td>\n",
       "      <td>head</td>\n",
       "      <td>head</td>\n",
       "      <td>head</td>\n",
       "      <td>head</td>\n",
       "      <td>head</td>\n",
       "    </tr>\n",
       "    <tr>\n",
       "      <th>2</th>\n",
       "      <td>head</td>\n",
       "      <td>tail</td>\n",
       "      <td>tail</td>\n",
       "      <td>head</td>\n",
       "      <td>head</td>\n",
       "      <td>head</td>\n",
       "      <td>tail</td>\n",
       "      <td>head</td>\n",
       "    </tr>\n",
       "    <tr>\n",
       "      <th>3</th>\n",
       "      <td>head</td>\n",
       "      <td>tail</td>\n",
       "      <td>head</td>\n",
       "      <td>head</td>\n",
       "      <td>tail</td>\n",
       "      <td>tail</td>\n",
       "      <td>head</td>\n",
       "      <td>head</td>\n",
       "    </tr>\n",
       "    <tr>\n",
       "      <th>4</th>\n",
       "      <td>tail</td>\n",
       "      <td>tail</td>\n",
       "      <td>head</td>\n",
       "      <td>head</td>\n",
       "      <td>tail</td>\n",
       "      <td>tail</td>\n",
       "      <td>tail</td>\n",
       "      <td>head</td>\n",
       "    </tr>\n",
       "  </tbody>\n",
       "</table>\n",
       "</div>"
      ],
      "text/plain": [
       "      0     1     2     3     4     5     6     7\n",
       "0  head  tail  head  head  tail  head  head  head\n",
       "1  head  head  head  head  head  head  head  head\n",
       "2  head  tail  tail  head  head  head  tail  head\n",
       "3  head  tail  head  head  tail  tail  head  head\n",
       "4  tail  tail  head  head  tail  tail  tail  head"
      ]
     },
     "execution_count": 73,
     "metadata": {},
     "output_type": "execute_result"
    }
   ],
   "source": [
    "# If you flip 8 coins, what is the probability of getting exactly 3 heads? What is the probability of getting more than 3 heads?\n",
    "\n",
    "flip = np.random.choice(['head','tail'],size =(10000, 8))\n",
    "df = pd.DataFrame(flip)\n",
    "df.head()"
   ]
  },
  {
   "cell_type": "code",
   "execution_count": 61,
   "id": "22ad1b00",
   "metadata": {},
   "outputs": [
    {
     "data": {
      "text/html": [
       "<div>\n",
       "<style scoped>\n",
       "    .dataframe tbody tr th:only-of-type {\n",
       "        vertical-align: middle;\n",
       "    }\n",
       "\n",
       "    .dataframe tbody tr th {\n",
       "        vertical-align: top;\n",
       "    }\n",
       "\n",
       "    .dataframe thead th {\n",
       "        text-align: right;\n",
       "    }\n",
       "</style>\n",
       "<table border=\"1\" class=\"dataframe\">\n",
       "  <thead>\n",
       "    <tr style=\"text-align: right;\">\n",
       "      <th></th>\n",
       "      <th>0</th>\n",
       "      <th>1</th>\n",
       "      <th>2</th>\n",
       "      <th>3</th>\n",
       "      <th>4</th>\n",
       "      <th>5</th>\n",
       "      <th>6</th>\n",
       "      <th>7</th>\n",
       "      <th>n_heads</th>\n",
       "    </tr>\n",
       "  </thead>\n",
       "  <tbody>\n",
       "    <tr>\n",
       "      <th>0</th>\n",
       "      <td>head</td>\n",
       "      <td>tail</td>\n",
       "      <td>head</td>\n",
       "      <td>head</td>\n",
       "      <td>tail</td>\n",
       "      <td>tail</td>\n",
       "      <td>tail</td>\n",
       "      <td>head</td>\n",
       "      <td>4</td>\n",
       "    </tr>\n",
       "    <tr>\n",
       "      <th>1</th>\n",
       "      <td>tail</td>\n",
       "      <td>tail</td>\n",
       "      <td>head</td>\n",
       "      <td>tail</td>\n",
       "      <td>head</td>\n",
       "      <td>tail</td>\n",
       "      <td>head</td>\n",
       "      <td>head</td>\n",
       "      <td>4</td>\n",
       "    </tr>\n",
       "    <tr>\n",
       "      <th>2</th>\n",
       "      <td>head</td>\n",
       "      <td>tail</td>\n",
       "      <td>tail</td>\n",
       "      <td>tail</td>\n",
       "      <td>head</td>\n",
       "      <td>head</td>\n",
       "      <td>head</td>\n",
       "      <td>tail</td>\n",
       "      <td>4</td>\n",
       "    </tr>\n",
       "    <tr>\n",
       "      <th>3</th>\n",
       "      <td>tail</td>\n",
       "      <td>tail</td>\n",
       "      <td>head</td>\n",
       "      <td>tail</td>\n",
       "      <td>tail</td>\n",
       "      <td>tail</td>\n",
       "      <td>head</td>\n",
       "      <td>tail</td>\n",
       "      <td>2</td>\n",
       "    </tr>\n",
       "    <tr>\n",
       "      <th>4</th>\n",
       "      <td>tail</td>\n",
       "      <td>tail</td>\n",
       "      <td>head</td>\n",
       "      <td>head</td>\n",
       "      <td>tail</td>\n",
       "      <td>tail</td>\n",
       "      <td>head</td>\n",
       "      <td>head</td>\n",
       "      <td>4</td>\n",
       "    </tr>\n",
       "  </tbody>\n",
       "</table>\n",
       "</div>"
      ],
      "text/plain": [
       "      0     1     2     3     4     5     6     7  n_heads\n",
       "0  head  tail  head  head  tail  tail  tail  head        4\n",
       "1  tail  tail  head  tail  head  tail  head  head        4\n",
       "2  head  tail  tail  tail  head  head  head  tail        4\n",
       "3  tail  tail  head  tail  tail  tail  head  tail        2\n",
       "4  tail  tail  head  head  tail  tail  head  head        4"
      ]
     },
     "execution_count": 61,
     "metadata": {},
     "output_type": "execute_result"
    }
   ],
   "source": [
    "df['n_heads'] = (df=='head').sum(axis=1)\n",
    "df.head()"
   ]
  },
  {
   "cell_type": "code",
   "execution_count": 64,
   "id": "04ce9362",
   "metadata": {},
   "outputs": [
    {
     "data": {
      "text/plain": [
       "0.2193"
      ]
     },
     "execution_count": 64,
     "metadata": {},
     "output_type": "execute_result"
    }
   ],
   "source": [
    "(df.n_heads == 3).mean()"
   ]
  },
  {
   "cell_type": "code",
   "execution_count": 65,
   "id": "98f49115",
   "metadata": {},
   "outputs": [
    {
     "data": {
      "text/plain": [
       "0.6415"
      ]
     },
     "execution_count": 65,
     "metadata": {},
     "output_type": "execute_result"
    }
   ],
   "source": [
    "(df.n_heads > 3).mean()"
   ]
  },
  {
   "cell_type": "code",
   "execution_count": null,
   "id": "a984a33f",
   "metadata": {},
   "outputs": [],
   "source": [
    "#another way. let 0= tail, 1 = head"
   ]
  },
  {
   "cell_type": "code",
   "execution_count": 220,
   "id": "9baf914f",
   "metadata": {},
   "outputs": [
    {
     "data": {
      "text/plain": [
       "array([[1, 0, 0, ..., 0, 0, 0],\n",
       "       [0, 0, 0, ..., 1, 0, 1],\n",
       "       [0, 0, 0, ..., 1, 1, 1],\n",
       "       ...,\n",
       "       [0, 0, 1, ..., 0, 1, 0],\n",
       "       [0, 1, 1, ..., 1, 0, 0],\n",
       "       [0, 1, 1, ..., 0, 0, 0]])"
      ]
     },
     "execution_count": 220,
     "metadata": {},
     "output_type": "execute_result"
    }
   ],
   "source": [
    "coin_flip = np.random.choice([0,1], size=(10000,8))\n",
    "coin_flip"
   ]
  },
  {
   "cell_type": "code",
   "execution_count": 222,
   "id": "75541ee9",
   "metadata": {},
   "outputs": [
    {
     "data": {
      "text/plain": [
       "0.22"
      ]
     },
     "execution_count": 222,
     "metadata": {},
     "output_type": "execute_result"
    }
   ],
   "source": [
    "(coin_flip.sum(axis=1) == 3).mean()"
   ]
  },
  {
   "cell_type": "code",
   "execution_count": 223,
   "id": "249de1d8",
   "metadata": {},
   "outputs": [
    {
     "data": {
      "text/plain": [
       "0.6293"
      ]
     },
     "execution_count": 223,
     "metadata": {},
     "output_type": "execute_result"
    }
   ],
   "source": [
    "(coin_flip.sum(axis=1) > 3).mean()"
   ]
  },
  {
   "cell_type": "code",
   "execution_count": 100,
   "id": "b3227cd9",
   "metadata": {},
   "outputs": [
    {
     "data": {
      "text/plain": [
       "array([[0.56541087, 0.16239929],\n",
       "       [0.42530213, 0.68438748],\n",
       "       [0.10184655, 0.03210951],\n",
       "       ...,\n",
       "       [0.11550303, 0.9447577 ],\n",
       "       [0.80964001, 0.55572932],\n",
       "       [0.35698903, 0.34315281]])"
      ]
     },
     "execution_count": 100,
     "metadata": {},
     "output_type": "execute_result"
    }
   ],
   "source": [
    "# There are approximitely 3 web development cohorts for every 1 data science cohort at Codeup. \n",
    "# Assuming that Codeup randomly selects an alumni to put on a billboard, what are the odds that the two billboards I drive past both have data science students on them?\n",
    "# web development =.75\n",
    "# data science = .25\n",
    "cohort = np.random.random(size =(10000,2))\n",
    "\n",
    "cohort\n",
    "\n",
    "\n"
   ]
  },
  {
   "cell_type": "code",
   "execution_count": 103,
   "id": "28ce067e",
   "metadata": {},
   "outputs": [
    {
     "data": {
      "text/plain": [
       "array([[False,  True],\n",
       "       [False, False],\n",
       "       [ True,  True],\n",
       "       ...,\n",
       "       [ True, False],\n",
       "       [False, False],\n",
       "       [False, False]])"
      ]
     },
     "execution_count": 103,
     "metadata": {},
     "output_type": "execute_result"
    }
   ],
   "source": [
    "ds = cohort <= .25\n",
    "ds"
   ]
  },
  {
   "cell_type": "code",
   "execution_count": 104,
   "id": "aa351f13",
   "metadata": {
    "scrolled": true
   },
   "outputs": [
    {
     "data": {
      "text/plain": [
       "0.0633"
      ]
     },
     "execution_count": 104,
     "metadata": {},
     "output_type": "execute_result"
    }
   ],
   "source": [
    "(ds.sum(axis=1) == 2).mean()"
   ]
  },
  {
   "cell_type": "code",
   "execution_count": null,
   "id": "4c54df0e",
   "metadata": {},
   "outputs": [],
   "source": [
    "# Codeup students buy, on average, 3 poptart packages with a standard deviation of 1.5 a day from the snack vending machine. \n",
    "# If on monday the machine is restocked with 17 poptart packages, how likely is it that I will be able to buy some poptarts on Friday afternoon? (Remember, if you have mean and standard deviation, use the np.random.normal) You'll need to make a judgement call on how to handle some of your values"
   ]
  },
  {
   "cell_type": "code",
   "execution_count": 111,
   "id": "5b4a02bc",
   "metadata": {},
   "outputs": [
    {
     "data": {
      "text/plain": [
       "0.726"
      ]
     },
     "execution_count": 111,
     "metadata": {},
     "output_type": "execute_result"
    }
   ],
   "source": [
    "poptarts = np.random.normal(3, 1.5,(10000,5))\n",
    "p_friday = (poptarts.sum(axis=1)<17).mean()\n",
    "p_friday"
   ]
  },
  {
   "cell_type": "code",
   "execution_count": 115,
   "id": "f4a91f51",
   "metadata": {},
   "outputs": [
    {
     "data": {
      "text/plain": [
       "array([176.80436563, 179.08597626, 170.16140914, ..., 175.25720954,\n",
       "       171.18097787, 173.13602276])"
      ]
     },
     "execution_count": 115,
     "metadata": {},
     "output_type": "execute_result"
    }
   ],
   "source": [
    "# Compare Heights\n",
    "\n",
    "# Men have an average height of 178 cm and standard deviation of 8cm.\n",
    "men=np.random.normal(178, 8,10000)\n",
    "men"
   ]
  },
  {
   "cell_type": "code",
   "execution_count": 116,
   "id": "f330b3e9",
   "metadata": {},
   "outputs": [
    {
     "data": {
      "text/plain": [
       "array([166.24328878, 163.94855447, 171.2234598 , ..., 175.5355782 ,\n",
       "       169.96673324, 179.94783405])"
      ]
     },
     "execution_count": 116,
     "metadata": {},
     "output_type": "execute_result"
    }
   ],
   "source": [
    "# Women have a mean of 170, sd = 6cm.\n",
    "female = np.random.normal(170, 6,10000)\n",
    "female"
   ]
  },
  {
   "cell_type": "code",
   "execution_count": null,
   "id": "b26fe15e",
   "metadata": {},
   "outputs": [],
   "source": [
    "# If a man and woman are chosen at random, what is the likelihood the woman is taller than the man?"
   ]
  },
  {
   "cell_type": "code",
   "execution_count": 120,
   "id": "2dae55a1",
   "metadata": {},
   "outputs": [
    {
     "data": {
      "text/plain": [
       "0.2129"
      ]
     },
     "execution_count": 120,
     "metadata": {},
     "output_type": "execute_result"
    }
   ],
   "source": [
    "(female > men).mean()"
   ]
  },
  {
   "cell_type": "code",
   "execution_count": 149,
   "id": "5aba6fa9",
   "metadata": {},
   "outputs": [
    {
     "data": {
      "text/plain": [
       "array([[0.88642492, 0.1165982 , 0.51007592, ..., 0.16659976, 0.73185713,\n",
       "        0.04193223],\n",
       "       [0.76024755, 0.345594  , 0.23736418, ..., 0.63021392, 0.3989309 ,\n",
       "        0.9733492 ],\n",
       "       [0.25728477, 0.64067305, 0.19328486, ..., 0.14278487, 0.97841271,\n",
       "        0.65958042],\n",
       "       ...,\n",
       "       [0.887537  , 0.35132124, 0.24720244, ..., 0.22897366, 0.13068378,\n",
       "        0.5797821 ],\n",
       "       [0.36421398, 0.73723419, 0.51890836, ..., 0.16631998, 0.24482615,\n",
       "        0.32495632],\n",
       "       [0.74826257, 0.85668851, 0.42304589, ..., 0.76136518, 0.60439398,\n",
       "        0.95040881]])"
      ]
     },
     "execution_count": 149,
     "metadata": {},
     "output_type": "execute_result"
    }
   ],
   "source": [
    "# When installing anaconda on a student's computer, there's a 1 in 250 chance that the download is corrupted and the installation fails. \n",
    "# What are the odds that after having 50 students download anaconda, no one has an installation issue? 100 students?\n",
    "fail= (1/250)\n",
    "fifty = np.random.random(size=(10000,50))\n",
    "fifty\n"
   ]
  },
  {
   "cell_type": "code",
   "execution_count": 186,
   "id": "aa30e335",
   "metadata": {},
   "outputs": [
    {
     "data": {
      "text/plain": [
       "0.821"
      ]
     },
     "execution_count": 186,
     "metadata": {},
     "output_type": "execute_result"
    }
   ],
   "source": [
    "fail_fifty = ((fifty > fail).sum(axis=1)==50).mean()\n",
    "fail_fifty"
   ]
  },
  {
   "cell_type": "code",
   "execution_count": 185,
   "id": "1cb9eb0e",
   "metadata": {},
   "outputs": [
    {
     "data": {
      "text/plain": [
       "0.6654"
      ]
     },
     "execution_count": 185,
     "metadata": {},
     "output_type": "execute_result"
    }
   ],
   "source": [
    "#for 100\n",
    "fail_hundred = ((np.random.random(size=(10000,100))> fail).sum(axis=1)== 100).mean()\n",
    "fail_hundred"
   ]
  },
  {
   "cell_type": "code",
   "execution_count": 190,
   "id": "f3bd990f",
   "metadata": {},
   "outputs": [
    {
     "data": {
      "text/plain": [
       "0.4571"
      ]
     },
     "execution_count": 190,
     "metadata": {},
     "output_type": "execute_result"
    }
   ],
   "source": [
    "# What is the probability that we observe an installation issue within the first 150 students that download anaconda?\n",
    "_150 = np.random.random(size=(10000,150))\n",
    "_150 < fail\n",
    "fail_150 = ((_150 < fail).sum(axis=1) > 0).mean()\n",
    "fail_150\n"
   ]
  },
  {
   "cell_type": "code",
   "execution_count": 184,
   "id": "5c2daeec",
   "metadata": {},
   "outputs": [
    {
     "data": {
      "text/plain": [
       "0.1612"
      ]
     },
     "execution_count": 184,
     "metadata": {},
     "output_type": "execute_result"
    }
   ],
   "source": [
    "# How likely is it that 450 students all download anaconda without an issue?\n",
    "fail_450 = ((np.random.random(size=(10000,450))> fail).sum(axis=1)== 450).mean()\n",
    "fail_450"
   ]
  },
  {
   "cell_type": "markdown",
   "id": "7edf36ba",
   "metadata": {},
   "source": [
    "### different approach to anaconda questions"
   ]
  },
  {
   "cell_type": "code",
   "execution_count": 234,
   "id": "c34a68f5",
   "metadata": {},
   "outputs": [
    {
     "data": {
      "text/plain": [
       "0.8164"
      ]
     },
     "execution_count": 234,
     "metadata": {},
     "output_type": "execute_result"
    }
   ],
   "source": [
    "#all 50 successful installation\n",
    "\n",
    "# 1= corrupt installation, 0= successful installation\n",
    "\n",
    "all_fifty = np.random.choice([1,0], size=(10000,50), p=(1/250,249/250))\n",
    "all_fifty\n",
    "(all_fifty.sum(axis=1)== 0).mean()"
   ]
  },
  {
   "cell_type": "code",
   "execution_count": 236,
   "id": "7ea58306",
   "metadata": {},
   "outputs": [
    {
     "data": {
      "text/plain": [
       "0.6675"
      ]
     },
     "execution_count": 236,
     "metadata": {},
     "output_type": "execute_result"
    }
   ],
   "source": [
    "#all 100 successfull installation\n",
    "all_hundred = np.random.choice([1,0], size=(10000,100), p=(1/250,249/250))\n",
    "all_hundred\n",
    "(all_hundred.sum(axis=1)== 0).mean()"
   ]
  },
  {
   "cell_type": "markdown",
   "id": "7af17dc7",
   "metadata": {},
   "source": [
    "### There's a 70% chance on any given day that there will be at least one food truck at Travis Park. However, you haven't seen a food truck there in 3 days. How unlikely is this?\n",
    "\n"
   ]
  },
  {
   "cell_type": "code",
   "execution_count": 237,
   "id": "731065c7",
   "metadata": {
    "scrolled": true
   },
   "outputs": [
    {
     "data": {
      "text/plain": [
       "array([[0.41897607, 0.23715742, 0.6162204 ],\n",
       "       [0.60528622, 0.71157565, 0.7050125 ],\n",
       "       [0.43223568, 0.77378873, 0.00464685],\n",
       "       ...,\n",
       "       [0.69415889, 0.12053515, 0.91851768],\n",
       "       [0.36277275, 0.90348734, 0.96386226],\n",
       "       [0.88625636, 0.26428199, 0.58580699]])"
      ]
     },
     "execution_count": 237,
     "metadata": {},
     "output_type": "execute_result"
    }
   ],
   "source": [
    "#no truck shows up\n",
    "atleast1= .7\n",
    "three_truck = np.random.random(size=(10000,3))\n",
    "three_truck\n",
    "\n"
   ]
  },
  {
   "cell_type": "code",
   "execution_count": 187,
   "id": "eee67a42",
   "metadata": {},
   "outputs": [
    {
     "data": {
      "text/plain": [
       "0.3464"
      ]
     },
     "execution_count": 187,
     "metadata": {},
     "output_type": "execute_result"
    }
   ],
   "source": [
    "no_truck =((three_truck > atleast1).sum(axis=1)== 0).mean()\n",
    "no_truck"
   ]
  },
  {
   "cell_type": "code",
   "execution_count": 188,
   "id": "1cb570aa",
   "metadata": {},
   "outputs": [
    {
     "data": {
      "text/plain": [
       "0.9125"
      ]
     },
     "execution_count": 188,
     "metadata": {},
     "output_type": "execute_result"
    }
   ],
   "source": [
    "# How likely is it that a food truck will show up sometime this week?\n",
    "seven_days = np.random.random(size=(10000,7)) > atleast1\n",
    "(seven_days.sum(axis=1)>=1).mean()"
   ]
  },
  {
   "cell_type": "markdown",
   "id": "ae4f2854",
   "metadata": {},
   "source": [
    "## Birthday"
   ]
  },
  {
   "cell_type": "code",
   "execution_count": 195,
   "id": "8ea34d12",
   "metadata": {},
   "outputs": [],
   "source": [
    "# If 23 people are in the same room, what are the odds that two of them share a birthday? \n",
    "\n",
    "birth_23 = np.random.randint(0,365,(10000,23))\n"
   ]
  },
  {
   "cell_type": "code",
   "execution_count": 200,
   "id": "eda0ba5c",
   "metadata": {},
   "outputs": [
    {
     "data": {
      "text/plain": [
       "0.5081"
      ]
     },
     "execution_count": 200,
     "metadata": {},
     "output_type": "execute_result"
    }
   ],
   "source": [
    "birthday_23 = pd.DataFrame(birth_23)\n",
    "share_birthday23 = birthday_23.apply(lambda x: len(set(x)) != len(x),axis=1).mean()\n",
    "share_birthday23"
   ]
  },
  {
   "cell_type": "code",
   "execution_count": 212,
   "id": "2ef769e4",
   "metadata": {},
   "outputs": [
    {
     "data": {
      "text/plain": [
       "0.5081"
      ]
     },
     "execution_count": 212,
     "metadata": {},
     "output_type": "execute_result"
    }
   ],
   "source": [
    "\n",
    "# another method to find common birthdays in room of 23 people.\n",
    "samebirth = pd.DataFrame(birth_23)\n",
    "(samebirth.nunique(axis=1)< 23).mean()"
   ]
  },
  {
   "cell_type": "code",
   "execution_count": 203,
   "id": "4ccaa1ec",
   "metadata": {},
   "outputs": [
    {
     "data": {
      "text/plain": [
       "0.4074"
      ]
     },
     "execution_count": 203,
     "metadata": {},
     "output_type": "execute_result"
    }
   ],
   "source": [
    "# What if it's 20 people\n",
    "\n",
    "birthday_20 = pd.DataFrame(np.random.randint(0,365,(10000,20)))\n",
    "share_birthday20 = birthday_20.apply(lambda x: len(set(x)) != len(x),axis=1).mean()\n",
    "share_birthday20"
   ]
  },
  {
   "cell_type": "code",
   "execution_count": 217,
   "id": "29974364",
   "metadata": {},
   "outputs": [
    {
     "data": {
      "text/plain": [
       "0.4099"
      ]
     },
     "execution_count": 217,
     "metadata": {},
     "output_type": "execute_result"
    }
   ],
   "source": [
    "#another method to find common birthdays in room of 20 people.\n",
    "samebirth_20 = pd.DataFrame(np.random.randint(0,365,(10000,20)))\n",
    "share_birthday_20 = (samebirth_20.nunique(axis=1)< 20).mean()\n",
    "share_birthday_20"
   ]
  },
  {
   "cell_type": "code",
   "execution_count": 206,
   "id": "e873ea30",
   "metadata": {},
   "outputs": [
    {
     "data": {
      "text/plain": [
       "0.8894"
      ]
     },
     "execution_count": 206,
     "metadata": {},
     "output_type": "execute_result"
    }
   ],
   "source": [
    "# What if 40 people?\n",
    "birthday_40 = pd.DataFrame(np.random.randint(0,365,(10000,40)))\n",
    "share_birthday40 = birthday_40.apply(lambda x: len(set(x)) != len(x), axis=1).mean()\n",
    "share_birthday40"
   ]
  },
  {
   "cell_type": "code",
   "execution_count": 219,
   "id": "d9aedb21",
   "metadata": {},
   "outputs": [
    {
     "data": {
      "text/plain": [
       "0.8919"
      ]
     },
     "execution_count": 219,
     "metadata": {},
     "output_type": "execute_result"
    }
   ],
   "source": [
    "# another method to find common birthdays in 40 people\n",
    "samebirth_40 = pd.DataFrame(np.random.randint(0,365,(10000,40)))\n",
    "share_birthday_40 = (samebirth_40.nunique(axis=1)< 40).mean()\n",
    "share_birthday_40"
   ]
  },
  {
   "cell_type": "code",
   "execution_count": null,
   "id": "27bf617b",
   "metadata": {},
   "outputs": [],
   "source": []
  }
 ],
 "metadata": {
  "kernelspec": {
   "display_name": "Python 3 (ipykernel)",
   "language": "python",
   "name": "python3"
  },
  "language_info": {
   "codemirror_mode": {
    "name": "ipython",
    "version": 3
   },
   "file_extension": ".py",
   "mimetype": "text/x-python",
   "name": "python",
   "nbconvert_exporter": "python",
   "pygments_lexer": "ipython3",
   "version": "3.9.12"
  }
 },
 "nbformat": 4,
 "nbformat_minor": 5
}
